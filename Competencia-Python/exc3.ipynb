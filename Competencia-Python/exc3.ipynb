{
 "cells": [
  {
   "cell_type": "code",
   "execution_count": 6,
   "metadata": {},
   "outputs": [],
   "source": [
    "import pandas as pd"
   ]
  },
  {
   "cell_type": "code",
   "execution_count": 7,
   "metadata": {},
   "outputs": [],
   "source": [
    "import pandas as pd\n",
    "file = 'C:/Users/danie/Downloads/Teste Estagio/Teste_Phyton/Input_Teste_Python_exercicio 3.xlsx'\n",
    "df = pd.read_excel(file)\n",
    "\n",
    "# df.head()"
   ]
  },
  {
   "cell_type": "code",
   "execution_count": 15,
   "metadata": {},
   "outputs": [
    {
     "data": {
      "text/plain": [
       "User Name\n",
       "Aarão       09/04/2022 13:2709/04/2022 07:2709/04/2022 17:...\n",
       "Alan        08/02/2022 10:2808/02/2022 04:2808/02/2022 11:...\n",
       "André       24/05/2022 09:2824/05/2022 03:2824/05/2022 13:...\n",
       "Anita       11/11/2022 11:1511/11/2022 07:1511/11/2022 15:...\n",
       "Ariana      26/05/2022 11:1926/05/2022 05:1926/05/2022 14:...\n",
       "Augusto     11/02/2022 13:0711/02/2022 09:0711/02/2022 17:...\n",
       "Bruno       10/12/2022 13:2910/12/2022 07:2910/12/2022 15:...\n",
       "Calebe      24/10/2022 13:2024/10/2022 09:2024/10/2022 16:...\n",
       "Daniel      23/10/2022 09:0023/10/2022 02:0023/10/2022 12:...\n",
       "Daniela      14/12/2022 14:2414/12/2022 07:2414/12/2022 18:24\n",
       "David       27/11/2022 09:0527/11/2022 01:0527/11/2022 13:...\n",
       "Diana        08/02/2022 12:0708/02/2022 04:0708/02/2022 14:07\n",
       "Débora      27/08/2022 11:1727/08/2022 07:1727/08/2022 12:...\n",
       "Eduardo      05/03/2022 11:1505/03/2022 06:1505/03/2022 14:15\n",
       "Emanuel     26/03/2022 13:0126/03/2022 05:0126/03/2022 17:...\n",
       "Emanuela     15/06/2022 09:0715/06/2022 05:0715/06/2022 13:07\n",
       "Estela      18/05/2022 09:2218/05/2022 02:2218/05/2022 10:...\n",
       "Eva          19/01/2022 10:0819/01/2022 05:0819/01/2022 11:08\n",
       "Felipe      18/05/2022 09:0118/05/2022 02:0118/05/2022 13:...\n",
       "Fernanda    04/11/2022 12:1304/11/2022 06:1304/11/2022 15:...\n",
       "Hugo         22/06/2022 09:0822/06/2022 05:0822/06/2022 13:08\n",
       "Igor        09/05/2022 14:2709/05/2022 09:2709/05/2022 16:...\n",
       "Joana        16/03/2022 10:0316/03/2022 02:0316/03/2022 12:03\n",
       "Joaquim     20/08/2022 11:1520/08/2022 04:1520/08/2022 14:...\n",
       "João         15/07/2022 11:1115/07/2022 06:1115/07/2022 15:11\n",
       "Juliana     18/05/2022 13:2618/05/2022 07:2618/05/2022 16:...\n",
       "Leonardo     02/02/2022 09:1702/02/2022 03:1702/02/2022 12:17\n",
       "Levi        26/04/2022 13:0126/04/2022 07:0126/04/2022 14:...\n",
       "Lia         04/04/2022 12:1704/04/2022 07:1704/04/2022 14:...\n",
       "Luana       02/11/2022 12:1702/11/2022 05:1702/11/2022 13:...\n",
       "Marina       02/08/2022 10:1202/08/2022 05:1202/08/2022 13:12\n",
       "Micaela     13/11/2022 12:0713/11/2022 04:0713/11/2022 16:...\n",
       "Paloma      03/08/2022 11:0103/08/2022 05:0103/08/2022 15:...\n",
       "Samuel       13/03/2022 12:1413/03/2022 04:1413/03/2022 15:14\n",
       "Tiago        09/02/2022 13:2009/02/2022 09:2009/02/2022 15:20\n",
       "Tomás       15/03/2022 11:2815/03/2022 06:2815/03/2022 14:...\n",
       "Victor      01/04/2022 12:0601/04/2022 07:0601/04/2022 14:...\n",
       "Yara        07/09/2022 10:2807/09/2022 06:2807/09/2022 11:...\n",
       "Yuri        10/06/2022 14:1610/06/2022 08:1610/06/2022 15:...\n",
       "Name: Start Time, dtype: object"
      ]
     },
     "execution_count": 15,
     "metadata": {},
     "output_type": "execute_result"
    }
   ],
   "source": [
    "import pandas as pd\n",
    "import datetime\n",
    "\n",
    "df = pd.read_excel(file)\n",
    "\n",
    "df.groupby('User Name')['Start Time'].sum()"
   ]
  },
  {
   "cell_type": "markdown",
   "metadata": {},
   "source": [
    "df['Start Time'] = pd.to_datetime(df['Start Time'], format='%m/%d/%Y %H:%M')\n",
    "df['Data'] = df[coluna_tempo].dt.date\n",
    "df['Hora'] = df[coluna_tempo].dt.time"
   ]
  },
  {
   "cell_type": "markdown",
   "metadata": {},
   "source": []
  },
  {
   "cell_type": "code",
   "execution_count": 13,
   "metadata": {},
   "outputs": [
    {
     "name": "stderr",
     "output_type": "stream",
     "text": [
      "C:\\Users\\danie\\AppData\\Local\\Temp\\ipykernel_14644\\1612710990.py:33: SettingWithCopyWarning: \n",
      "A value is trying to be set on a copy of a slice from a DataFrame.\n",
      "Try using .loc[row_indexer,col_indexer] = value instead\n",
      "\n",
      "See the caveats in the documentation: https://pandas.pydata.org/pandas-docs/stable/user_guide/indexing.html#returning-a-view-versus-a-copy\n",
      "  df1['Tempo Total'] = tempo_total\n"
     ]
    }
   ],
   "source": [
    "#passando as colunas Start time e End Time do formato Object para datetime\n",
    "df['Start Time'] = pd.to_datetime(df['Start Time'], format='%d/%m/%Y %H:%M')\n",
    "df['End Time'] = pd.to_datetime(df['End Time'], format='%Y-%m-%d %H:%M:%S')\n",
    "\n",
    "#separando a data da hora\n",
    "df['Data_entrada'] = df['Start Time'].dt.date \n",
    "df['Hora_entrada'] = df['Start Time'].dt.time\n",
    "\n",
    "df['Data_saida'] = df['End Time'].dt.date\n",
    "df['Hora_saida'] = df['End Time'].dt.time\n",
    "\n",
    "#passando as horas pra string, para que possam ser convertidas para timedelta\n",
    "df['Hora_entrada'] = df['Hora_entrada'].astype(str)\n",
    "df['Hora_saida'] = df['Hora_saida'].astype(str)\n",
    "\n",
    "\n",
    "# Convertendo tempo para timedelta\n",
    "df['Hora_entrada'] = pd.to_timedelta(df['Hora_entrada'])\n",
    "df['Hora_saida'] = pd.to_timedelta(df['Hora_saida'])\n",
    "\n",
    "Tempo_entrada = []\n",
    "tempo_saida = []\n",
    "\n",
    "tempo_entrada = df.groupby(['User Name', 'Data_entrada'])['Hora_entrada'].transform('sum')\n",
    "tempo_saida = df.groupby(['User Name', 'Data_saida'])['Hora_saida'].transform('sum')\n",
    "\n",
    "\n",
    "tempo_total = tempo_saida - tempo_entrada\n",
    "\n",
    "\n",
    "df1 = df.drop_duplicates(subset=['User Name', 'Data_entrada'])\n",
    "\n",
    "df1['Tempo Total'] = tempo_total\n",
    "\n",
    "df1 = df1.drop(columns=['Unnamed: 0','Vendor','First Name', 'Last Name' ,'Department', 'Workstation', 'Vendor', 'Feature', 'Version', 'License Type', 'Server', 'Borrowed', 'Additional Key', 'IP', 'Consumed Tokens','End Time', 'Start Time', 'Session ID', 'Hora_saida', 'Data_saida', 'Hora_entrada' ])\n",
    "\n",
    "df1.rename(columns={ 'Data_entrada': 'Data'}, inplace= True)\n",
    "\n",
    "df1['Tempo Total'] = df1['Tempo Total'].apply(lambda x: '{:02}:{:02}'.format(int(x.total_seconds() // 3600), int((x.total_seconds() % 3600) // 60)))\n",
    "\n",
    "\n",
    "\n",
    "\n",
    "\n"
   ]
  },
  {
   "cell_type": "code",
   "execution_count": 14,
   "metadata": {},
   "outputs": [],
   "source": [
    "df1.to_excel(\"output_exc3.xlsx\", index= False)\n"
   ]
  }
 ],
 "metadata": {
  "kernelspec": {
   "display_name": "Python 3",
   "language": "python",
   "name": "python3"
  },
  "language_info": {
   "codemirror_mode": {
    "name": "ipython",
    "version": 3
   },
   "file_extension": ".py",
   "mimetype": "text/x-python",
   "name": "python",
   "nbconvert_exporter": "python",
   "pygments_lexer": "ipython3",
   "version": "3.12.1"
  }
 },
 "nbformat": 4,
 "nbformat_minor": 2
}
