{
 "cells": [
  {
   "cell_type": "code",
   "execution_count": 1,
   "metadata": {},
   "outputs": [],
   "source": [
    "import pandas as pd\n",
    "\n",
    "df = pd.read_excel(\"C:/Users/danie/Downloads/Teste Estagio/Teste_Phyton/Input_Teste_Python_Dados Exercicio 4 I.xlsx\")\n",
    "df_time = pd.read_excel(\"C:/Users/danie/Downloads/Teste Estagio/Teste_Phyton/Input_Teste_Python_Dados Exercício 4 II.xlsx\")\n"
   ]
  },
  {
   "cell_type": "code",
   "execution_count": 2,
   "metadata": {},
   "outputs": [
    {
     "data": {
      "text/plain": [
       "(75, 6)"
      ]
     },
     "execution_count": 2,
     "metadata": {},
     "output_type": "execute_result"
    }
   ],
   "source": [
    "#excluindo os usuarios que possuem valores nulos, pois sem o valor das horas, não relacionar os datasets\n",
    "df_time = df_time.dropna(subset= ['Hora Termino', 'Data Termino'])\n",
    "df_time.shape\n"
   ]
  },
  {
   "cell_type": "code",
   "execution_count": 3,
   "metadata": {},
   "outputs": [
    {
     "data": {
      "text/html": [
       "<div>\n",
       "<style scoped>\n",
       "    .dataframe tbody tr th:only-of-type {\n",
       "        vertical-align: middle;\n",
       "    }\n",
       "\n",
       "    .dataframe tbody tr th {\n",
       "        vertical-align: top;\n",
       "    }\n",
       "\n",
       "    .dataframe thead th {\n",
       "        text-align: right;\n",
       "    }\n",
       "</style>\n",
       "<table border=\"1\" class=\"dataframe\">\n",
       "  <thead>\n",
       "    <tr style=\"text-align: right;\">\n",
       "      <th></th>\n",
       "      <th>Unnamed: 0</th>\n",
       "      <th>User Name</th>\n",
       "      <th>Data Inicio</th>\n",
       "      <th>Hora Inicio</th>\n",
       "      <th>Data Termino</th>\n",
       "      <th>Hora Termino</th>\n",
       "    </tr>\n",
       "  </thead>\n",
       "  <tbody>\n",
       "    <tr>\n",
       "      <th>0</th>\n",
       "      <td>0</td>\n",
       "      <td>unknown</td>\n",
       "      <td>2022-10-04</td>\n",
       "      <td>08:38:00</td>\n",
       "      <td>2022-10-06</td>\n",
       "      <td>14:38:00</td>\n",
       "    </tr>\n",
       "    <tr>\n",
       "      <th>1</th>\n",
       "      <td>1</td>\n",
       "      <td>unknown</td>\n",
       "      <td>2022-09-28</td>\n",
       "      <td>01:17:00</td>\n",
       "      <td>2022-10-02</td>\n",
       "      <td>15:17:00</td>\n",
       "    </tr>\n",
       "    <tr>\n",
       "      <th>2</th>\n",
       "      <td>2</td>\n",
       "      <td>unknown</td>\n",
       "      <td>2022-12-22</td>\n",
       "      <td>09:57:00</td>\n",
       "      <td>2022-12-29</td>\n",
       "      <td>17:57:00</td>\n",
       "    </tr>\n",
       "    <tr>\n",
       "      <th>3</th>\n",
       "      <td>3</td>\n",
       "      <td>unknown</td>\n",
       "      <td>2022-03-04</td>\n",
       "      <td>05:26:00</td>\n",
       "      <td>2022-03-13</td>\n",
       "      <td>11:26:00</td>\n",
       "    </tr>\n",
       "    <tr>\n",
       "      <th>4</th>\n",
       "      <td>4</td>\n",
       "      <td>unknown</td>\n",
       "      <td>2022-11-12</td>\n",
       "      <td>01:04:00</td>\n",
       "      <td>2022-11-16</td>\n",
       "      <td>15:04:00</td>\n",
       "    </tr>\n",
       "  </tbody>\n",
       "</table>\n",
       "</div>"
      ],
      "text/plain": [
       "   Unnamed: 0 User Name Data Inicio Hora Inicio Data Termino Hora Termino\n",
       "0           0   unknown  2022-10-04    08:38:00   2022-10-06     14:38:00\n",
       "1           1   unknown  2022-09-28    01:17:00   2022-10-02     15:17:00\n",
       "2           2   unknown  2022-12-22    09:57:00   2022-12-29     17:57:00\n",
       "3           3   unknown  2022-03-04    05:26:00   2022-03-13     11:26:00\n",
       "4           4   unknown  2022-11-12    01:04:00   2022-11-16     15:04:00"
      ]
     },
     "execution_count": 3,
     "metadata": {},
     "output_type": "execute_result"
    }
   ],
   "source": [
    "df['Start Time'] = pd.to_datetime(df['Start Time'], format='%d/%m/%Y %H:%M')\n",
    "df['End Time'] = pd.to_datetime(df['End Time'], format='%Y-%m-%d %H:%M:%S')\n",
    "\n",
    "df['Data Inicio'] = df['Start Time'].dt.date \n",
    "df['Hora Inicio'] = df['Start Time'].dt.time\n",
    "\n",
    "df['Data Termino'] = df['End Time'].dt.date\n",
    "df['Hora Termino'] = df['End Time'].dt.time\n",
    "\n",
    "df.drop(columns=['Start Time', 'End Time'], inplace = True)\n",
    "df.head()"
   ]
  },
  {
   "cell_type": "code",
   "execution_count": 4,
   "metadata": {},
   "outputs": [],
   "source": [
    "resultado = pd.concat([df.drop('User Name', axis = 1), df_time['Usuario']], axis =1)\n"
   ]
  },
  {
   "cell_type": "code",
   "execution_count": 5,
   "metadata": {},
   "outputs": [],
   "source": [
    "resultado.dropna(subset='Usuario', inplace= True)\n",
    "resultado.drop(columns= 'Unnamed: 0', inplace= True)\n",
    "\n",
    "resultado.to_excel(\"output_exc4.xlsx\",index=False)\n",
    "\n"
   ]
  }
 ],
 "metadata": {
  "kernelspec": {
   "display_name": "Python 3",
   "language": "python",
   "name": "python3"
  },
  "language_info": {
   "codemirror_mode": {
    "name": "ipython",
    "version": 3
   },
   "file_extension": ".py",
   "mimetype": "text/x-python",
   "name": "python",
   "nbconvert_exporter": "python",
   "pygments_lexer": "ipython3",
   "version": "3.12.1"
  }
 },
 "nbformat": 4,
 "nbformat_minor": 2
}
